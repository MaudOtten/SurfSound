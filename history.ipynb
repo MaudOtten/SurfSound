{
 "cells": [
  {
   "cell_type": "code",
   "execution_count": 34,
   "metadata": {},
   "outputs": [],
   "source": [
    "import sqlite3\n",
    "import pandas as pd\n",
    "import datetime\n",
    "from shutil import copyfile\n",
    "import spacy\n",
    "import numpy as np\n",
    "nlp = spacy.load('en_core_web_sm')\n",
    "from sklearn.feature_extraction.text import TfidfVectorizer"
   ]
  },
  {
   "cell_type": "markdown",
   "metadata": {},
   "source": [
    "### Retrieve browser history as list of strings (page titles)"
   ]
  },
  {
   "cell_type": "code",
   "execution_count": 2,
   "metadata": {},
   "outputs": [],
   "source": [
    "# Path to chrome history file\n",
    "user = 'selinaveng'\n",
    "history_path = '/Users/{}/Library/Application Support/Google/Chrome/Default/History'.format(user)\n",
    "\n",
    "# Copy the history file since the original is not accesible when Chrome is open\n",
    "history_copy_path = history_path + '_copy'\n",
    "copyfile(history_path, history_copy_path)\n",
    "\n",
    "# Connect to the database\n",
    "con = sqlite3.connect(history_copy_path)\n",
    "\n",
    "# Put data in pandas data frame\n",
    "df = pd.read_sql_query(\"select title, id, last_visit_time from urls\", con)"
   ]
  },
  {
   "cell_type": "code",
   "execution_count": 3,
   "metadata": {},
   "outputs": [
    {
     "data": {
      "text/html": [
       "<div>\n",
       "<style scoped>\n",
       "    .dataframe tbody tr th:only-of-type {\n",
       "        vertical-align: middle;\n",
       "    }\n",
       "\n",
       "    .dataframe tbody tr th {\n",
       "        vertical-align: top;\n",
       "    }\n",
       "\n",
       "    .dataframe thead th {\n",
       "        text-align: right;\n",
       "    }\n",
       "</style>\n",
       "<table border=\"1\" class=\"dataframe\">\n",
       "  <thead>\n",
       "    <tr style=\"text-align: right;\">\n",
       "      <th></th>\n",
       "      <th>title</th>\n",
       "      <th>id</th>\n",
       "      <th>last_visit_time</th>\n",
       "    </tr>\n",
       "  </thead>\n",
       "  <tbody>\n",
       "    <tr>\n",
       "      <th>0</th>\n",
       "      <td>HBO Nordic | Se hundredevis af serier og film ...</td>\n",
       "      <td>96</td>\n",
       "      <td>13231616523450264</td>\n",
       "    </tr>\n",
       "    <tr>\n",
       "      <th>1</th>\n",
       "      <td>DR | TV, radio, nyheder og meget mere</td>\n",
       "      <td>109</td>\n",
       "      <td>13231844012738778</td>\n",
       "    </tr>\n",
       "    <tr>\n",
       "      <th>2</th>\n",
       "      <td>Michael sendte dig en besked</td>\n",
       "      <td>1172</td>\n",
       "      <td>13231860218027893</td>\n",
       "    </tr>\n",
       "    <tr>\n",
       "      <th>3</th>\n",
       "      <td>YouTube</td>\n",
       "      <td>1563</td>\n",
       "      <td>13231861124004930</td>\n",
       "    </tr>\n",
       "    <tr>\n",
       "      <th>4</th>\n",
       "      <td>Google Maps</td>\n",
       "      <td>1608</td>\n",
       "      <td>13231688537498186</td>\n",
       "    </tr>\n",
       "  </tbody>\n",
       "</table>\n",
       "</div>"
      ],
      "text/plain": [
       "                                               title    id    last_visit_time\n",
       "0  HBO Nordic | Se hundredevis af serier og film ...    96  13231616523450264\n",
       "1              DR | TV, radio, nyheder og meget mere   109  13231844012738778\n",
       "2                       Michael sendte dig en besked  1172  13231860218027893\n",
       "3                                            YouTube  1563  13231861124004930\n",
       "4                                        Google Maps  1608  13231688537498186"
      ]
     },
     "execution_count": 3,
     "metadata": {},
     "output_type": "execute_result"
    }
   ],
   "source": [
    "df.head()"
   ]
  },
  {
   "cell_type": "code",
   "execution_count": 4,
   "metadata": {},
   "outputs": [],
   "source": [
    "# Convert the time for last visited\n",
    "def convertChromeTime(ms):\n",
    "    \"\"\"Convert the amount of microsends into a datetime object. \n",
    "    Google chrome doesn't use Unix epoch.\n",
    "    \"\"\"\n",
    "    return datetime.datetime(1601, 1, 1) + datetime.timedelta(microseconds=ms)\n",
    "\n",
    "# Sort by last visited to get the most frequent first\n",
    "df['datetime'] = df['last_visit_time'].apply(convertChromeTime)\n",
    "df = df.sort_values('datetime', ascending=False)"
   ]
  },
  {
   "cell_type": "code",
   "execution_count": 5,
   "metadata": {},
   "outputs": [
    {
     "data": {
      "text/html": [
       "<div>\n",
       "<style scoped>\n",
       "    .dataframe tbody tr th:only-of-type {\n",
       "        vertical-align: middle;\n",
       "    }\n",
       "\n",
       "    .dataframe tbody tr th {\n",
       "        vertical-align: top;\n",
       "    }\n",
       "\n",
       "    .dataframe thead th {\n",
       "        text-align: right;\n",
       "    }\n",
       "</style>\n",
       "<table border=\"1\" class=\"dataframe\">\n",
       "  <thead>\n",
       "    <tr style=\"text-align: right;\">\n",
       "      <th></th>\n",
       "      <th>title</th>\n",
       "      <th>id</th>\n",
       "      <th>last_visit_time</th>\n",
       "      <th>datetime</th>\n",
       "    </tr>\n",
       "  </thead>\n",
       "  <tbody>\n",
       "    <tr>\n",
       "      <th>2070</th>\n",
       "      <td>sklearn.feature_extraction.text.TfidfVectorize...</td>\n",
       "      <td>32410</td>\n",
       "      <td>13231871165473594</td>\n",
       "      <td>2020-04-20 15:46:05.473594</td>\n",
       "    </tr>\n",
       "    <tr>\n",
       "      <th>2071</th>\n",
       "      <td>sklearn.feature_extraction.text.TfidfVectorize...</td>\n",
       "      <td>32411</td>\n",
       "      <td>13231871165473594</td>\n",
       "      <td>2020-04-20 15:46:05.473594</td>\n",
       "    </tr>\n",
       "    <tr>\n",
       "      <th>15235</th>\n",
       "      <td>sklearn tfidfvectorizer - Google Search</td>\n",
       "      <td>45599</td>\n",
       "      <td>13231871164129830</td>\n",
       "      <td>2020-04-20 15:46:04.129830</td>\n",
       "    </tr>\n",
       "    <tr>\n",
       "      <th>15166</th>\n",
       "      <td>similarity - Is there an algorithm to identify...</td>\n",
       "      <td>45530</td>\n",
       "      <td>13231871148981848</td>\n",
       "      <td>2020-04-20 15:45:48.981848</td>\n",
       "    </tr>\n",
       "    <tr>\n",
       "      <th>15234</th>\n",
       "      <td>find most salient word in sentece - Google Search</td>\n",
       "      <td>45598</td>\n",
       "      <td>13231871144731924</td>\n",
       "      <td>2020-04-20 15:45:44.731924</td>\n",
       "    </tr>\n",
       "  </tbody>\n",
       "</table>\n",
       "</div>"
      ],
      "text/plain": [
       "                                                   title     id  \\\n",
       "2070   sklearn.feature_extraction.text.TfidfVectorize...  32410   \n",
       "2071   sklearn.feature_extraction.text.TfidfVectorize...  32411   \n",
       "15235            sklearn tfidfvectorizer - Google Search  45599   \n",
       "15166  similarity - Is there an algorithm to identify...  45530   \n",
       "15234  find most salient word in sentece - Google Search  45598   \n",
       "\n",
       "         last_visit_time                    datetime  \n",
       "2070   13231871165473594  2020-04-20 15:46:05.473594  \n",
       "2071   13231871165473594  2020-04-20 15:46:05.473594  \n",
       "15235  13231871164129830  2020-04-20 15:46:04.129830  \n",
       "15166  13231871148981848  2020-04-20 15:45:48.981848  \n",
       "15234  13231871144731924  2020-04-20 15:45:44.731924  "
      ]
     },
     "execution_count": 5,
     "metadata": {},
     "output_type": "execute_result"
    }
   ],
   "source": [
    "df.head()"
   ]
  },
  {
   "cell_type": "code",
   "execution_count": 6,
   "metadata": {},
   "outputs": [],
   "source": [
    "titles = df['title'].to_list()"
   ]
  },
  {
   "cell_type": "code",
   "execution_count": 8,
   "metadata": {},
   "outputs": [
    {
     "data": {
      "text/plain": [
       "['sklearn.feature_extraction.text.TfidfVectorizer — scikit-learn 0.22.2 documentation',\n",
       " 'sklearn.feature_extraction.text.TfidfVectorizer — scikit-learn 0.22.2 documentation',\n",
       " 'sklearn tfidfvectorizer - Google Search',\n",
       " 'similarity - Is there an algorithm to identify the most salient word from a given set of words? - Stack Overflow',\n",
       " 'find most salient word in sentece - Google Search']"
      ]
     },
     "execution_count": 8,
     "metadata": {},
     "output_type": "execute_result"
    }
   ],
   "source": [
    "titles[:5]"
   ]
  },
  {
   "cell_type": "markdown",
   "metadata": {},
   "source": [
    "### Find the most salient words in each title string"
   ]
  },
  {
   "cell_type": "code",
   "execution_count": 10,
   "metadata": {},
   "outputs": [],
   "source": [
    "stopwords = list(nlp.Defaults.stop_words)"
   ]
  },
  {
   "cell_type": "code",
   "execution_count": 19,
   "metadata": {},
   "outputs": [],
   "source": [
    "def get_best_word(title):\n",
    "    \n",
    "    words = title.split(' ')\n",
    "    \n",
    "    return words[0]"
   ]
  },
  {
   "cell_type": "code",
   "execution_count": 20,
   "metadata": {},
   "outputs": [
    {
     "data": {
      "text/plain": [
       "'How'"
      ]
     },
     "execution_count": 20,
     "metadata": {},
     "output_type": "execute_result"
    }
   ],
   "source": [
    "get_best_word(titles[0])"
   ]
  },
  {
   "cell_type": "code",
   "execution_count": 39,
   "metadata": {},
   "outputs": [],
   "source": [
    "search_words = []"
   ]
  },
  {
   "cell_type": "code",
   "execution_count": 40,
   "metadata": {},
   "outputs": [],
   "source": [
    "for i in range(len(titles)):\n",
    "    \n",
    "    word = get_best_word(titles[i])\n",
    "    \n",
    "    if word not in search_words:\n",
    "        search_words.append(word)\n",
    "    \n",
    "    if len(search_words) == 20:\n",
    "        break"
   ]
  },
  {
   "cell_type": "code",
   "execution_count": 41,
   "metadata": {},
   "outputs": [
    {
     "data": {
      "text/plain": [
       "['How',\n",
       " 'copy',\n",
       " 'cross',\n",
       " 'get',\n",
       " 'Week10-SQL-for-Chrome-History',\n",
       " 'chrome',\n",
       " 'Fetch',\n",
       " 'Untitled',\n",
       " 'Home',\n",
       " 'Opening',\n",
       " 'ipython',\n",
       " 'IOPub',\n",
       " 'sqlite',\n",
       " 'Analyze',\n",
       " 'python',\n",
       " 'access',\n",
       " 'chrome.history',\n",
       " 'open',\n",
       " 'Playing',\n",
       " 'parse']"
      ]
     },
     "execution_count": 41,
     "metadata": {},
     "output_type": "execute_result"
    }
   ],
   "source": [
    "search_words"
   ]
  }
 ],
 "metadata": {
  "kernelspec": {
   "display_name": "Python 3",
   "language": "python",
   "name": "python3"
  },
  "language_info": {
   "codemirror_mode": {
    "name": "ipython",
    "version": 3
   },
   "file_extension": ".py",
   "mimetype": "text/x-python",
   "name": "python",
   "nbconvert_exporter": "python",
   "pygments_lexer": "ipython3",
   "version": "3.7.2"
  }
 },
 "nbformat": 4,
 "nbformat_minor": 2
}
